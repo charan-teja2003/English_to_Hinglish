{
  "nbformat": 4,
  "nbformat_minor": 0,
  "metadata": {
    "colab": {
      "provenance": []
    },
    "kernelspec": {
      "name": "python3",
      "display_name": "Python 3"
    },
    "language_info": {
      "name": "python"
    }
  },
  "cells": [
    {
      "cell_type": "code",
      "source": [
        "pip install transformers"
      ],
      "metadata": {
        "id": "v-Sl-LTk470h"
      },
      "execution_count": null,
      "outputs": []
    },
    {
      "cell_type": "code",
      "source": [
        "!pip install -qU \\\n",
        "  transformers \\\n",
        "  sentence-transformers\\\n",
        "  accelerate\\\n",
        "  einops \\\n",
        "  langchain \\\n",
        "  xformers \\\n",
        "  bitsandbytes"
      ],
      "metadata": {
        "id": "qdtrhmQ7G3HB"
      },
      "execution_count": null,
      "outputs": []
    },
    {
      "cell_type": "code",
      "source": [
        "from transformers import pipeline"
      ],
      "metadata": {
        "id": "VYy9pQmIGSOX"
      },
      "execution_count": 10,
      "outputs": []
    },
    {
      "cell_type": "code",
      "source": [
        "!pip install sentencepiece"
      ],
      "metadata": {
        "id": "MIBZjUBJHTXC"
      },
      "execution_count": null,
      "outputs": []
    },
    {
      "cell_type": "code",
      "source": [
        "!pip install transformers[sentencepiece]"
      ],
      "metadata": {
        "id": "T7L7wZf_HaJK"
      },
      "execution_count": null,
      "outputs": []
    },
    {
      "cell_type": "code",
      "source": [
        "# Create a translation pipeline for English to Hindi\n",
        "translator = pipeline(\"translation\", model=\"Helsinki-NLP/opus-mt-en-hi\")"
      ],
      "metadata": {
        "id": "kuUE7dGpGazJ"
      },
      "execution_count": null,
      "outputs": []
    },
    {
      "cell_type": "code",
      "source": [
        "translation_dict = {\n",
        "    \"प्रतिक्रिया\": \"feedback\",\n",
        "    \"टिप्पणी\": \"comment\",\n",
        "    \"खण्ड\": \"section\",\n",
        "    \"वीडियो\": \"video\",\n",
        "    \"उत्पादों\": \"products\",\n",
        "    \"मिनट\": \"minute\",\n",
        "    \"डेमो\": \"demo\",\n",
        "    \"सिरसेट\":\"headset\",\n",
        "    \"बैग\": \"bag\"\n",
        "}"
      ],
      "metadata": {
        "id": "ROn-NoKGTrar"
      },
      "execution_count": 61,
      "outputs": []
    },
    {
      "cell_type": "code",
      "source": [
        "# Input English text\n",
        "english_text = input()\n",
        "# Translate English text to Hinglish\n",
        "hinglish_text = translator(english_text, max_length=100)[0]['translation_text']\n",
        "words=hinglish_text.split(' ')\n",
        "sentence=\"\"\n",
        "for word in words:\n",
        "  if word in translation_dict:\n",
        "    word=translation_dict[word]\n",
        "    sentence+=\" \"+word\n",
        "  else:\n",
        "    sentence+=\" \"+word\n",
        "print(sentence)"
      ],
      "metadata": {
        "colab": {
          "base_uri": "https://localhost:8080/",
          "height": 0
        },
        "id": "lRO45u5QHIfQ",
        "outputId": "ef756dec-53e7-4b53-a511-2e380c574d0b"
      },
      "execution_count": 66,
      "outputs": [
        {
          "output_type": "stream",
          "name": "stdout",
          "text": [
            "I had about a 30 minute demo just using this new headset\n",
            " मैं 30 minute demo था सिर्फ इस नए headset का इस्तेमाल\n"
          ]
        }
      ]
    }
  ]
}